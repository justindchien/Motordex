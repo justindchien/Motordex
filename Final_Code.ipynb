{
 "cells": [
  {
   "cell_type": "markdown",
   "metadata": {},
   "source": [
    "## Loading Label Data"
   ]
  },
  {
   "cell_type": "code",
   "execution_count": null,
   "metadata": {
    "collapsed": true
   },
   "outputs": [],
   "source": [
    "from scipy.io import loadmat"
   ]
  },
  {
   "cell_type": "code",
   "execution_count": null,
   "metadata": {
    "collapsed": false
   },
   "outputs": [],
   "source": [
    "bmw = loadmat('bmw10_release/bmw10_annos.mat')\n",
    "bmw"
   ]
  },
  {
   "cell_type": "code",
   "execution_count": null,
   "metadata": {
    "collapsed": false
   },
   "outputs": [],
   "source": [
    "bmw['annos'][0][0][1][0][0]"
   ]
  },
  {
   "cell_type": "code",
   "execution_count": null,
   "metadata": {
    "collapsed": false
   },
   "outputs": [],
   "source": [
    "cars = loadmat('devkit/cars_meta.mat')\n",
    "cars"
   ]
  },
  {
   "cell_type": "code",
   "execution_count": null,
   "metadata": {
    "collapsed": false
   },
   "outputs": [],
   "source": [
    "cars['class_names'][0][31]"
   ]
  },
  {
   "cell_type": "code",
   "execution_count": null,
   "metadata": {
    "collapsed": false
   },
   "outputs": [],
   "source": [
    "loadmat('devkit/cars_train_annos.mat')['annotations'][0][256]"
   ]
  },
  {
   "cell_type": "markdown",
   "metadata": {},
   "source": [
    "## Keras Exploration"
   ]
  },
  {
   "cell_type": "code",
   "execution_count": null,
   "metadata": {
    "collapsed": false
   },
   "outputs": [],
   "source": [
    "import keras"
   ]
  },
  {
   "cell_type": "code",
   "execution_count": null,
   "metadata": {
    "collapsed": false
   },
   "outputs": [],
   "source": [
    "keras.applications.vgg19.VGG19(include_top=False, weights='imagenet', input_tensor=None)"
   ]
  },
  {
   "cell_type": "markdown",
   "metadata": {},
   "source": [
    "### Preprocessing Images"
   ]
  },
  {
   "cell_type": "code",
   "execution_count": null,
   "metadata": {
    "collapsed": false
   },
   "outputs": [],
   "source": [
    "from keras.preprocessing.image import ImageDataGenerator, array_to_img, img_to_array, load_img"
   ]
  },
  {
   "cell_type": "code",
   "execution_count": null,
   "metadata": {
    "collapsed": false
   },
   "outputs": [],
   "source": [
    "#Create photo transform generator\n",
    "\n",
    "datagen = ImageDataGenerator(\n",
    "    rotation_range = 40,\n",
    "    width_shift_range = 0.2,\n",
    "    height_shift_range = 0.2,\n",
    "    rescale = 1./255,\n",
    "    shear_range = 0.2,\n",
    "    zoom_range = 0.2,\n",
    "    horizontal_flip = True,\n",
    "    fill_mode = 'nearest'\n",
    ")"
   ]
  },
  {
   "cell_type": "markdown",
   "metadata": {},
   "source": [
    "### Testing Transformation"
   ]
  },
  {
   "cell_type": "code",
   "execution_count": null,
   "metadata": {
    "collapsed": false
   },
   "outputs": [],
   "source": [
    "img = load_img('data/train/bmw/149105744.jpg')\n",
    "x = img_to_array(img)\n",
    "x = x.reshape((1,) + x.shape)\n",
    "\n",
    "i = 0\n",
    "for batch in datagen.flow(x, batch_size = 1,\n",
    "                         save_to_dir = 'preview', save_prefix = 'bmw', save_format = 'jpeg'):\n",
    "    i += 1\n",
    "    if i > 20:\n",
    "        break"
   ]
  },
  {
   "cell_type": "markdown",
   "metadata": {},
   "source": [
    "## Transformation Testing for BMW models"
   ]
  },
  {
   "cell_type": "code",
   "execution_count": null,
   "metadata": {
    "collapsed": false
   },
   "outputs": [],
   "source": [
    "datagen = ImageDataGenerator(\n",
    "    horizontal_flip = True,\n",
    "    rescale = 1./255,\n",
    "    rotation_range = 40,\n",
    "    fill_mode = 'nearest'\n",
    ")\n",
    "\n",
    "model = Sequential()\n",
    "model.add(ZeroPadding2D((1, 1), input_shape=(3, 224, 224)))\n",
    "\n",
    "\n",
    "# img = load_img('front_angle/transform_tests/BMW_2_FrontAngle_003.jpg')\n",
    "# x = img_to_array(img)\n",
    "# x = x.reshape((1,) + x.shape)\n",
    "\n",
    "# i = 0\n",
    "# for batch in \n",
    "generator = datagen.flow_from_directory('front_angle/transform_tests',\n",
    "                            target_size = (244,244),\n",
    "                            batch_size = 1,\n",
    "                         save_to_dir = 'front_angle/transform_tests', \n",
    "                                         save_prefix = 'bmw2', \n",
    "                                         save_format = 'jpeg')\n",
    "\n",
    "bottleneck_features_train = model.predict_generator(generator, 6)\n",
    "np.save('bottleneck_features_train.npy', bottleneck_features_train)\n",
    "\n",
    "#     i += 1\n",
    "#     if i > 4:\n",
    "#         break"
   ]
  },
  {
   "cell_type": "markdown",
   "metadata": {},
   "source": [
    "## Trying a Re-Train on VGG-19"
   ]
  },
  {
   "cell_type": "code",
   "execution_count": null,
   "metadata": {
    "collapsed": false
   },
   "outputs": [],
   "source": [
    "import os\n",
    "import h5py\n",
    "import numpy as np\n",
    "from keras.preprocessing.image import ImageDataGenerator\n",
    "from keras.models import Sequential\n",
    "from keras.layers import Convolution2D, MaxPooling2D, ZeroPadding2D\n",
    "from keras.layers import Activation, Dropout, Flatten, Dense, Input\n",
    "from keras import backend as K\n",
    "from keras import optimizers"
   ]
  },
  {
   "cell_type": "markdown",
   "metadata": {},
   "source": [
    "### Subset Test"
   ]
  },
  {
   "cell_type": "code",
   "execution_count": null,
   "metadata": {
    "collapsed": true
   },
   "outputs": [],
   "source": [
    "# path to the model weights file.\n",
    "weights_path = 'weights/vgg19_weights.h5'\n",
    "top_model_weights_path = 'bottleneck_fc_model.h5'\n",
    "# dimensions of our images.\n",
    "img_width, img_height = 224, 224\n",
    "\n",
    "train_data_dir = 'data_sub/train'\n",
    "validation_data_dir = 'data_sub/validation'\n",
    "nb_train_samples = 200\n",
    "nb_validation_samples = 150\n",
    "nb_epoch = 50"
   ]
  },
  {
   "cell_type": "code",
   "execution_count": null,
   "metadata": {
    "collapsed": true
   },
   "outputs": [],
   "source": [
    "def save_bottlebeck_features():\n",
    "    datagen = ImageDataGenerator(rescale=1., featurewise_center=True) #(rescale=1./255)\n",
    "    datagen.mean=np.array([103.939, 116.779, 123.68],dtype=np.float32).reshape(3,1,1)\n",
    "\n",
    "    # build the VGG19 network\n",
    "    model = Sequential()\n",
    "    model.add(ZeroPadding2D((1, 1), input_shape=(3, img_width, img_height)))\n",
    "    \n",
    "    model.add(Convolution2D(64, 3, 3, activation='relu'))\n",
    "    model.add(ZeroPadding2D((1,1)))\n",
    "    model.add(Convolution2D(64, 3, 3, activation='relu'))\n",
    "    model.add(MaxPooling2D((2,2), strides=(2,2)))\n",
    "    \n",
    "    model.add(ZeroPadding2D((1,1)))\n",
    "    model.add(Convolution2D(128, 3, 3, activation='relu'))\n",
    "    model.add(ZeroPadding2D((1,1)))\n",
    "    model.add(Convolution2D(128, 3, 3, activation='relu'))\n",
    "    model.add(MaxPooling2D((2,2), strides=(2,2)))\n",
    "\n",
    "    model.add(ZeroPadding2D((1,1)))\n",
    "    model.add(Convolution2D(256, 3, 3, activation='relu'))\n",
    "    model.add(ZeroPadding2D((1,1)))\n",
    "    model.add(Convolution2D(256, 3, 3, activation='relu'))\n",
    "    model.add(ZeroPadding2D((1,1)))\n",
    "    model.add(Convolution2D(256, 3, 3, activation='relu'))\n",
    "    model.add(ZeroPadding2D((1,1)))\n",
    "    model.add(Convolution2D(256, 3, 3, activation='relu'))\n",
    "    model.add(MaxPooling2D((2,2), strides=(2,2)))\n",
    "\n",
    "    model.add(ZeroPadding2D((1,1)))\n",
    "    model.add(Convolution2D(512, 3, 3, activation='relu'))\n",
    "    model.add(ZeroPadding2D((1,1)))\n",
    "    model.add(Convolution2D(512, 3, 3, activation='relu'))\n",
    "    model.add(ZeroPadding2D((1,1)))\n",
    "    model.add(Convolution2D(512, 3, 3, activation='relu'))\n",
    "    model.add(ZeroPadding2D((1,1)))\n",
    "    model.add(Convolution2D(512, 3, 3, activation='relu'))\n",
    "    model.add(MaxPooling2D((2,2), strides=(2,2)))\n",
    "\n",
    "    model.add(ZeroPadding2D((1,1)))\n",
    "    model.add(Convolution2D(512, 3, 3, activation='relu'))\n",
    "    model.add(ZeroPadding2D((1,1)))\n",
    "    model.add(Convolution2D(512, 3, 3, activation='relu'))\n",
    "    model.add(ZeroPadding2D((1,1)))\n",
    "    model.add(Convolution2D(512, 3, 3, activation='relu'))\n",
    "    model.add(ZeroPadding2D((1,1)))\n",
    "    model.add(Convolution2D(512, 3, 3, activation='relu'))\n",
    "    model.add(MaxPooling2D((2,2), strides=(2,2)))\n",
    "    \n",
    "    # load the weights of the VGG19 networks\n",
    "    assert os.path.exists(weights_path), 'Model weights not found (see \"weights_path\" variable in script).'\n",
    "    f = h5py.File(weights_path)\n",
    "    for k in range(f.attrs['nb_layers']):\n",
    "        if k >= len(model.layers):\n",
    "            # we don't look at the last (fully-connected) layers in the savefile\n",
    "            break\n",
    "        g = f['layer_{}'.format(k)]\n",
    "        weights = [g['param_{}'.format(p)] for p in range(g.attrs['nb_params'])]\n",
    "        model.layers[k].set_weights(weights)\n",
    "    f.close()\n",
    "    print('Model loaded.')\n",
    "\n",
    "    generator = datagen.flow_from_directory(\n",
    "            train_data_dir,\n",
    "            target_size=(img_width, img_height),\n",
    "            batch_size=32,\n",
    "            class_mode=None,\n",
    "            shuffle=False)\n",
    "    \n",
    "    bottleneck_features_train = model.predict_generator(generator, nb_train_samples)\n",
    "    np.save('bottleneck_features_train.npy', bottleneck_features_train)\n",
    "    \n",
    "    print('done with train.')\n",
    "\n",
    "    generator = datagen.flow_from_directory(\n",
    "            validation_data_dir,\n",
    "            target_size=(img_width, img_height),\n",
    "            batch_size=32,\n",
    "            class_mode=None,\n",
    "            shuffle=False)\n",
    "    \n",
    "    bottleneck_features_validation = model.predict_generator(generator, nb_validation_samples)\n",
    "    np.save('bottleneck_features_validation.npy', bottleneck_features_validation)\n",
    "    \n",
    "    print('done with validation.')"
   ]
  },
  {
   "cell_type": "code",
   "execution_count": null,
   "metadata": {
    "collapsed": false
   },
   "outputs": [],
   "source": [
    "save_bottlebeck_features()"
   ]
  },
  {
   "cell_type": "code",
   "execution_count": null,
   "metadata": {
    "collapsed": true
   },
   "outputs": [],
   "source": [
    "def train_top_model():\n",
    "    train_data = np.load('bottleneck_features_train.npy')\n",
    "    train_labels = np.array([1] * 100 + [0] * 100)\n",
    "\n",
    "    validation_data = np.load('bottleneck_features_validation.npy')\n",
    "    validation_labels = np.array([1] * 50 + [0] * 100)\n",
    "\n",
    "    model = Sequential()\n",
    "    model.add(Flatten(input_shape=train_data.shape[1:]))\n",
    "    model.add(Dense(256, activation='relu'))\n",
    "    model.add(Dropout(0.5))\n",
    "    model.add(Dense(1, activation='sigmoid'))\n",
    "\n",
    "    model.compile(optimizer=optimizers.RMSprop(lr=0.0001), loss='binary_crossentropy', metrics=['accuracy'])\n",
    "    \n",
    "    model.fit(train_data, train_labels,\n",
    "              nb_epoch=nb_epoch, batch_size=32,\n",
    "              validation_data=(validation_data, validation_labels))\n",
    "    model.save_weights(top_model_weights_path)"
   ]
  },
  {
   "cell_type": "code",
   "execution_count": null,
   "metadata": {
    "collapsed": false
   },
   "outputs": [],
   "source": [
    "train_top_model()"
   ]
  },
  {
   "cell_type": "markdown",
   "metadata": {},
   "source": [
    "224x224 = 0.5667"
   ]
  },
  {
   "cell_type": "markdown",
   "metadata": {},
   "source": [
    "### WIth Fine Tuning"
   ]
  },
  {
   "cell_type": "code",
   "execution_count": null,
   "metadata": {
    "collapsed": false
   },
   "outputs": [],
   "source": [
    "# path to the model weights files.\n",
    "weights_path = 'weights/vgg19_weights.h5'\n",
    "top_model_weights_path = 'bottleneck_fc_model.h5'\n",
    "# dimensions of our images.\n",
    "img_width, img_height = 224, 224\n",
    "\n",
    "train_data_dir = 'data_sub/train'\n",
    "validation_data_dir = 'data_sub/validation'\n",
    "nb_train_samples = 200\n",
    "nb_validation_samples = 150\n",
    "nb_epoch = 50\n",
    "\n",
    "# build the VGG16 network\n",
    "model = Sequential()\n",
    "model.add(ZeroPadding2D((1, 1), input_shape=(3, img_width, img_height)))\n",
    "\n",
    "model.add(Convolution2D(64, 3, 3, activation='relu'))\n",
    "model.add(ZeroPadding2D((1,1)))\n",
    "model.add(Convolution2D(64, 3, 3, activation='relu'))\n",
    "model.add(MaxPooling2D((2,2), strides=(2,2)))\n",
    "\n",
    "model.add(ZeroPadding2D((1,1)))\n",
    "model.add(Convolution2D(128, 3, 3, activation='relu'))\n",
    "model.add(ZeroPadding2D((1,1)))\n",
    "model.add(Convolution2D(128, 3, 3, activation='relu'))\n",
    "model.add(MaxPooling2D((2,2), strides=(2,2)))\n",
    "\n",
    "model.add(ZeroPadding2D((1,1)))\n",
    "model.add(Convolution2D(256, 3, 3, activation='relu'))\n",
    "model.add(ZeroPadding2D((1,1)))\n",
    "model.add(Convolution2D(256, 3, 3, activation='relu'))\n",
    "model.add(ZeroPadding2D((1,1)))\n",
    "model.add(Convolution2D(256, 3, 3, activation='relu'))\n",
    "model.add(ZeroPadding2D((1,1)))\n",
    "model.add(Convolution2D(256, 3, 3, activation='relu'))\n",
    "model.add(MaxPooling2D((2,2), strides=(2,2)))\n",
    "\n",
    "model.add(ZeroPadding2D((1,1)))\n",
    "model.add(Convolution2D(512, 3, 3, activation='relu'))\n",
    "model.add(ZeroPadding2D((1,1)))\n",
    "model.add(Convolution2D(512, 3, 3, activation='relu'))\n",
    "model.add(ZeroPadding2D((1,1)))\n",
    "model.add(Convolution2D(512, 3, 3, activation='relu'))\n",
    "model.add(ZeroPadding2D((1,1)))\n",
    "model.add(Convolution2D(512, 3, 3, activation='relu'))\n",
    "model.add(MaxPooling2D((2,2), strides=(2,2)))\n",
    "\n",
    "model.add(ZeroPadding2D((1,1)))\n",
    "model.add(Convolution2D(512, 3, 3, activation='relu'))\n",
    "model.add(ZeroPadding2D((1,1)))\n",
    "model.add(Convolution2D(512, 3, 3, activation='relu'))\n",
    "model.add(ZeroPadding2D((1,1)))\n",
    "model.add(Convolution2D(512, 3, 3, activation='relu'))\n",
    "model.add(ZeroPadding2D((1,1)))\n",
    "model.add(Convolution2D(512, 3, 3, activation='relu'))\n",
    "model.add(MaxPooling2D((2,2), strides=(2,2)))\n",
    "\n",
    "# load the weights of the VGG16 networks\n",
    "# (trained on ImageNet, won the ILSVRC competition in 2014)\n",
    "# note: when there is a complete match between your model definition\n",
    "# and your weight savefile, you can simply call model.load_weights(filename)\n",
    "assert os.path.exists(weights_path), 'Model weights not found (see \"weights_path\" variable in script).'\n",
    "f = h5py.File(weights_path)\n",
    "for k in range(f.attrs['nb_layers']):\n",
    "    if k >= len(model.layers):\n",
    "        # we don't look at the last (fully-connected) layers in the savefile\n",
    "        break\n",
    "    g = f['layer_{}'.format(k)]\n",
    "    weights = [g['param_{}'.format(p)] for p in range(g.attrs['nb_params'])]\n",
    "    model.layers[k].set_weights(weights)\n",
    "f.close()\n",
    "print('Model loaded.')\n",
    "\n",
    "# build a classifier model to put on top of the convolutional model\n",
    "top_model = Sequential()\n",
    "top_model.add(Flatten(input_shape=model.output_shape[1:]))\n",
    "top_model.add(Dense(256, activation='relu'))\n",
    "top_model.add(Dropout(0.5))\n",
    "top_model.add(Dense(1, activation='sigmoid'))\n",
    "\n",
    "# note that it is necessary to start with a fully-trained\n",
    "# classifier, including the top classifier,\n",
    "# in order to successfully do fine-tuning\n",
    "top_model.load_weights(top_model_weights_path)\n",
    "\n",
    "# add the model on top of the convolutional base\n",
    "model.add(top_model)\n",
    "\n",
    "# set the first 25 layers (up to the last conv block)\n",
    "# to non-trainable (weights will not be updated)\n",
    "for layer in model.layers[:25]:\n",
    "    layer.trainable = False\n",
    "\n",
    "# compile the model with a SGD/momentum optimizer\n",
    "# and a very slow learning rate.\n",
    "model.compile(loss='binary_crossentropy',\n",
    "              optimizer=optimizers.SGD(lr=1e-4, momentum=0.9),\n",
    "              metrics=['accuracy'])\n",
    "\n",
    "# prepare data augmentation configuration\n",
    "train_datagen = ImageDataGenerator(\n",
    "        rescale=1.,\n",
    "        shear_range=0.2,\n",
    "        zoom_range=0.2,\n",
    "        horizontal_flip=True)\n",
    "train_datagen.mean=np.array([103.939, 116.779, 123.68],dtype=np.float32).reshape(3,1,1)\n",
    "\n",
    "test_datagen = ImageDataGenerator(rescale=1., featurewise_center=True) #(rescale=1./255)\n",
    "test_datagen.mean=np.array([103.939, 116.779, 123.68],dtype=np.float32).reshape(3,1,1)\n",
    "    \n",
    "train_generator = train_datagen.flow_from_directory(\n",
    "        train_data_dir,\n",
    "        target_size=(img_height, img_width),\n",
    "        batch_size=32,\n",
    "        class_mode='binary')\n",
    "\n",
    "validation_generator = test_datagen.flow_from_directory(\n",
    "        validation_data_dir,\n",
    "        target_size=(img_height, img_width),\n",
    "        batch_size=32,\n",
    "        class_mode='binary')\n",
    "\n",
    "# fine-tune the model\n",
    "model.fit_generator(\n",
    "        train_generator,\n",
    "        samples_per_epoch=nb_train_samples,\n",
    "        nb_epoch=nb_epoch,\n",
    "        validation_data=validation_generator,\n",
    "        nb_val_samples=nb_validation_samples)"
   ]
  },
  {
   "cell_type": "markdown",
   "metadata": {},
   "source": [
    "### Full Data Set"
   ]
  },
  {
   "cell_type": "code",
   "execution_count": null,
   "metadata": {
    "collapsed": true
   },
   "outputs": [],
   "source": [
    "import os\n",
    "import h5py\n",
    "import numpy as np\n",
    "from keras.preprocessing.image import ImageDataGenerator\n",
    "from keras.models import Sequential\n",
    "from keras.layers import Convolution2D, MaxPooling2D, ZeroPadding2D\n",
    "from keras.layers import Activation, Dropout, Flatten, Dense, Input\n",
    "from keras import backend as K\n",
    "from keras import optimizers\n",
    "\n",
    "# path to the model weights file.\n",
    "weights_path = 'vgg19_weights.h5'\n",
    "top_model_weights_path = 'bottleneck_fc_model.h5'\n",
    "# dimensions of our images.\n",
    "img_width, img_height = 224, 224\n",
    "\n",
    "train_data_dir = 'data/train'\n",
    "validation_data_dir = 'data/validation'\n",
    "nb_train_samples = 8525\n",
    "nb_validation_samples = 1040\n",
    "nb_epoch = 100\n",
    "\n",
    "def save_bottlebeck_features():\n",
    "    datagen = ImageDataGenerator(rescale=1., featurewise_center=True) #(rescale=1./255)\n",
    "    datagen.mean=np.array([103.939, 116.779, 123.68],dtype=np.float32).reshape(3,1,1)\n",
    "\n",
    "    # build the VGG19 network\n",
    "    model = Sequential()\n",
    "    model.add(ZeroPadding2D((1, 1), input_shape=(3, img_width, img_height)))\n",
    "\n",
    "    model.add(Convolution2D(64, 3, 3, activation='relu'))\n",
    "    model.add(ZeroPadding2D((1,1)))\n",
    "    model.add(Convolution2D(64, 3, 3, activation='relu'))\n",
    "    model.add(MaxPooling2D((2,2), strides=(2,2)))\n",
    "\n",
    "    model.add(ZeroPadding2D((1,1)))\n",
    "    model.add(Convolution2D(128, 3, 3, activation='relu'))\n",
    "    model.add(ZeroPadding2D((1,1)))\n",
    "    model.add(Convolution2D(128, 3, 3, activation='relu'))\n",
    "    model.add(MaxPooling2D((2,2), strides=(2,2)))\n",
    "\n",
    "    model.add(ZeroPadding2D((1,1)))\n",
    "    model.add(Convolution2D(256, 3, 3, activation='relu'))\n",
    "    model.add(ZeroPadding2D((1,1)))\n",
    "    model.add(Convolution2D(256, 3, 3, activation='relu'))\n",
    "    model.add(ZeroPadding2D((1,1)))\n",
    "    model.add(Convolution2D(256, 3, 3, activation='relu'))\n",
    "    model.add(ZeroPadding2D((1,1)))\n",
    "    model.add(Convolution2D(256, 3, 3, activation='relu'))\n",
    "    model.add(MaxPooling2D((2,2), strides=(2,2)))\n",
    "\n",
    "    model.add(ZeroPadding2D((1,1)))\n",
    "    model.add(Convolution2D(512, 3, 3, activation='relu'))\n",
    "    model.add(ZeroPadding2D((1,1)))\n",
    "    model.add(Convolution2D(512, 3, 3, activation='relu'))\n",
    "    model.add(ZeroPadding2D((1,1)))\n",
    "    model.add(Convolution2D(512, 3, 3, activation='relu'))\n",
    "    model.add(ZeroPadding2D((1,1)))\n",
    "    model.add(Convolution2D(512, 3, 3, activation='relu'))\n",
    "    model.add(MaxPooling2D((2,2), strides=(2,2)))\n",
    "\n",
    "    model.add(ZeroPadding2D((1,1)))\n",
    "    model.add(Convolution2D(512, 3, 3, activation='relu'))\n",
    "    model.add(ZeroPadding2D((1,1)))\n",
    "    model.add(Convolution2D(512, 3, 3, activation='relu'))\n",
    "    model.add(ZeroPadding2D((1,1)))\n",
    "    model.add(Convolution2D(512, 3, 3, activation='relu'))\n",
    "    model.add(ZeroPadding2D((1,1)))\n",
    "    model.add(Convolution2D(512, 3, 3, activation='relu'))\n",
    "    model.add(MaxPooling2D((2,2), strides=(2,2)))\n",
    "\n",
    "    # load the weights of the VGG19 networks\n",
    "    assert os.path.exists(weights_path), 'Model weights not found (see \"weights_path\" variable in script).'\n",
    "    f = h5py.File(weights_path)\n",
    "    for k in range(f.attrs['nb_layers']):\n",
    "        if k >= len(model.layers):\n",
    "            # we don't look at the last (fully-connected) layers in the savefile\n",
    "            break\n",
    "        g = f['layer_{}'.format(k)]\n",
    "        weights = [g['param_{}'.format(p)] for p in range(g.attrs['nb_params'])]\n",
    "        model.layers[k].set_weights(weights)\n",
    "    f.close()\n",
    "    print('Model loaded.')\n",
    "\n",
    "    generator = datagen.flow_from_directory(\n",
    "            train_data_dir,\n",
    "            target_size=(img_width, img_height),\n",
    "            batch_size=32,\n",
    "            class_mode=None,\n",
    "            shuffle=False)\n",
    "\n",
    "    bottleneck_features_train = model.predict_generator(generator, nb_train_samples)\n",
    "    np.save('bottleneck_features_train.npy', bottleneck_features_train)\n",
    "\n",
    "    print('done with train.')\n",
    "\n",
    "    generator = datagen.flow_from_directory(\n",
    "        validation_data_dir,\n",
    "        target_size=(img_width, img_height),\n",
    "        batch_size=32,\n",
    "        class_mode=None,\n",
    "        shuffle=False)\n",
    "\n",
    "    bottleneck_features_validation = model.predict_generator(generator, nb_validation_samples)\n",
    "    np.save('bottleneck_features_validation.npy', bottleneck_features_validation)\n",
    "\n",
    "    print('done with validation.')"
   ]
  },
  {
   "cell_type": "code",
   "execution_count": null,
   "metadata": {
    "collapsed": false
   },
   "outputs": [],
   "source": [
    "def train_top_model():\n",
    "    train_data = np.load('bottleneck_features_train.npy')\n",
    "    train_labels = np.array([1] * 1009 + [0] * 7516)\n",
    "\n",
    "    validation_data = np.load('bottleneck_features_validation.npy')\n",
    "    validation_labels = np.array([1] * 520 + [0] * 520)\n",
    "\n",
    "    model = Sequential()\n",
    "    model.add(Flatten(input_shape=train_data.shape[1:]))\n",
    "    model.add(Dense(256, activation='relu',  init='lecun_uniform'))\n",
    "    model.add(Dropout(0.5))\n",
    "    model.add(Dense(1, activation='sigmoid'))\n",
    "\n",
    "    model.compile(optimizer=optimizers.RMSprop(lr=0.00001), loss='binary_crossentropy', metrics=['accuracy'])\n",
    "\n",
    "    model.fit(train_data, train_labels,\n",
    "              nb_epoch=nb_epoch, batch_size=32,\n",
    "              validation_data=(validation_data, validation_labels))\n",
    "    model.save_weights(top_model_weights_path)"
   ]
  },
  {
   "cell_type": "code",
   "execution_count": null,
   "metadata": {
    "collapsed": true
   },
   "outputs": [],
   "source": [
    "save_bottlebeck_features()\n",
    "train_top_model()"
   ]
  },
  {
   "cell_type": "markdown",
   "metadata": {
    "collapsed": true
   },
   "source": [
    "## Trying to load model"
   ]
  },
  {
   "cell_type": "code",
   "execution_count": 1,
   "metadata": {
    "collapsed": false
   },
   "outputs": [
    {
     "name": "stderr",
     "output_type": "stream",
     "text": [
      "Using Theano backend.\n"
     ]
    }
   ],
   "source": [
    "from keras.models import load_model\n",
    "from keras.preprocessing import image\n",
    "import numpy as np\n",
    "import requests\n",
    "import wget"
   ]
  },
  {
   "cell_type": "code",
   "execution_count": null,
   "metadata": {
    "collapsed": true
   },
   "outputs": [],
   "source": [
    "def get_image_score(image_path):\n",
    "    # r = requests.get(url)\n",
    "    # im = np.array(Image.open(StringIO(r.content)))\n",
    "#     wget.download(image_path, out = 'app/static/car/car.jpg')\n",
    "\n",
    "    img = image.load_img('test/car.jpg', target_size=(224, 224))\n",
    "    x = image.img_to_array(img)\n",
    "    x = np.expand_dims(x, axis=0)\n",
    "    x = preprocess_input(x)\n",
    "\n",
    "    model = load_model('/Users/justinchien/ds/metis/Project_Kojak/app/models/convolutions.h5')\n",
    "    convoluted = model.predict(x)\n",
    "\n",
    "    model2 = load_model('/Users/justinchien/ds/metis/Project_Kojak/app/models/fronts.h5')\n",
    "    prediction = model2.predict(convoluted)\n",
    "\n",
    "    predictions = []\n",
    "\n",
    "    for i in range(len(prediction[0])):\n",
    "        predictions.append((i, prediction[0][i]))\n",
    "\n",
    "    predictions.sort(key=lambda x: x[1], reverse = True)\n",
    "\n",
    "    car_dict = {\n",
    "        0:'aston',\n",
    "        1:'audi',\n",
    "        2:'bmw',\n",
    "        3:'bugatti',\n",
    "        4:'ferrari',\n",
    "        5:'lamborghini',\n",
    "        6:'mclaren'\n",
    "    }\n",
    "\n",
    "    result = (car_dict[predictions[0][0]])\n",
    "    return (result)"
   ]
  },
  {
   "cell_type": "code",
   "execution_count": null,
   "metadata": {
    "collapsed": false
   },
   "outputs": [],
   "source": [
    "get_image_score(\"a\")"
   ]
  },
  {
   "cell_type": "code",
   "execution_count": null,
   "metadata": {
    "collapsed": false
   },
   "outputs": [],
   "source": [
    "import keras\n",
    "\n",
    "keras.__version__"
   ]
  },
  {
   "cell_type": "code",
   "execution_count": null,
   "metadata": {
    "collapsed": false
   },
   "outputs": [],
   "source": [
    "def preprocess_input(x):\n",
    "    x /= 255.\n",
    "    x -= 0.5\n",
    "    x *= 2.\n",
    "    return x\n",
    "\n",
    "url = 'http://st.motortrend.com/uploads/sites/5/2013/09/Bugatti-Veyron-Grand-Sport-Vitesse-Legend-Jean-Bugatti-front-view.jpg'\n",
    "wget.download(url, out = 'test/car.jpg')\n",
    "\n",
    "img = image.load_img('test/car.jpg', target_size=(224, 224))\n",
    "x = image.img_to_array(img)\n",
    "x = np.expand_dims(x, axis=0)\n",
    "x = preprocess_input(x)\n",
    "\n",
    "model = load_model('/Users/justinchien/ds/metis/Project_Kojak/app/models/convolutions.h5')\n",
    "print('loaded convolutions')\n",
    "convoluted = model.predict(x)\n",
    "\n",
    "model2 = load_model('/Users/justinchien/ds/metis/Project_Kojak/app/models/fronts.h5')\n",
    "print('loaded top model')\n",
    "prediction = model2.predict(convoluted)\n",
    "\n",
    "predictions = []\n",
    "\n",
    "for i in range(len(prediction[0])):\n",
    "    predictions.append((i, prediction[0][i]))\n",
    "\n",
    "predictions.sort(key=lambda x: x[1], reverse = True)\n",
    "\n",
    "car_dict = {\n",
    "    0:'aston',\n",
    "    1:'audi',\n",
    "    2:'bmw',\n",
    "    3:'bugatti',\n",
    "    4:'ferrari',\n",
    "    5:'lamborghini',\n",
    "    6:'mcLaren'\n",
    "}\n",
    "\n",
    "print(car_dict[predictions[0][0]])"
   ]
  },
  {
   "cell_type": "code",
   "execution_count": null,
   "metadata": {
    "collapsed": true
   },
   "outputs": [],
   "source": [
    "car_dict = {\n",
    "    0:'aston',\n",
    "    1:'audi',\n",
    "    2:'bmw',\n",
    "    3:'bugatti',\n",
    "    4:'ferrari',\n",
    "    5:'lamborghini',\n",
    "    6:'mcLaren'\n",
    "}"
   ]
  },
  {
   "cell_type": "code",
   "execution_count": null,
   "metadata": {
    "collapsed": false
   },
   "outputs": [],
   "source": [
    "print(car_dict[predictions[0][0]], predictions[0][1]*100)\n",
    "print(car_dict[predictions[1][0]], predictions[1][1]*100)"
   ]
  },
  {
   "cell_type": "markdown",
   "metadata": {
    "collapsed": true
   },
   "source": [
    "## Trying BMW angled model designation"
   ]
  },
  {
   "cell_type": "code",
   "execution_count": null,
   "metadata": {
    "collapsed": false
   },
   "outputs": [],
   "source": [
    "convolutions = load_model('/Users/justinchien/ds/metis/Project_Kojak/app/models/convolutions.h5')\n",
    "print('loaded convolutions')\n",
    "\n",
    "bmw_top = load_model('/Users/justinchien/ds/metis/Project_Kojak/app/models/bmws_top.h5')\n",
    "print('loaded bmw top model')"
   ]
  },
  {
   "cell_type": "code",
   "execution_count": null,
   "metadata": {
    "collapsed": false
   },
   "outputs": [],
   "source": [
    "def preprocess_input(x):\n",
    "    x /= 255.\n",
    "    x -= 0.5\n",
    "    x *= 2.\n",
    "    return x\n",
    "\n",
    "url = 'https://media.ed.edmunds-media.com/bmw/5-series/2016/oem/2016_bmw_5-series_sedan_535d_fq_oem_1_300.jpg'\n",
    "wget.download(url, out = 'test/car.jpg')\n",
    "\n",
    "img = image.load_img('test/car.jpg', target_size=(224, 224))\n",
    "x = image.img_to_array(img)\n",
    "x = np.expand_dims(x, axis=0)\n",
    "x = preprocess_input(x)\n",
    "\n",
    "convoluted = convolutions.predict(x)\n",
    "\n",
    "prediction = bmw_top.predict(convoluted)\n",
    "\n",
    "predictions = []\n",
    "\n",
    "for i in range(len(prediction[0])):\n",
    "    predictions.append((i, prediction[0][i]))\n",
    "\n",
    "predictions.sort(key=lambda x: x[1], reverse = True)\n",
    "\n",
    "print(predictions)\n",
    "\n",
    "os.remove('test/car.jpg')\n",
    "\n",
    "bmw_dict = {\n",
    "    0:'2 Series',\n",
    "    1:'3 Series',\n",
    "    2:'4 Series',\n",
    "    3:'5 Series',\n",
    "    4:'6 Series',\n",
    "    5:'7 Series',\n",
    "    6:'i3',\n",
    "    7:'i8'\n",
    "}\n",
    "\n",
    "print(bmw_dict[predictions[0][0]], predictions[0][1]*100)\n",
    "print(bmw_dict[predictions[1][0]], predictions[1][1]*100)"
   ]
  },
  {
   "cell_type": "markdown",
   "metadata": {},
   "source": [
    "## Flipping Image Test"
   ]
  },
  {
   "cell_type": "code",
   "execution_count": null,
   "metadata": {
    "collapsed": false
   },
   "outputs": [],
   "source": [
    "from PIL import Image\n",
    "import glob"
   ]
  },
  {
   "cell_type": "code",
   "execution_count": null,
   "metadata": {
    "collapsed": false
   },
   "outputs": [],
   "source": [
    "image_list = []\n",
    "for filename in glob.glob('front_angle/transform_tests/*.jpeg'):\n",
    "    im=Image.open(filename)\n",
    "    out = im.transpose(Image.FLIP_LEFT_RIGHT)\n",
    "    image_list.append(out)"
   ]
  },
  {
   "cell_type": "code",
   "execution_count": null,
   "metadata": {
    "collapsed": false
   },
   "outputs": [],
   "source": [
    "for i in range(len(image_list)):\n",
    "    image_list[i].save('flipped{}.jpeg'.format(i))"
   ]
  },
  {
   "cell_type": "markdown",
   "metadata": {},
   "source": [
    "## Trying Front or Angled Into Front Prediction"
   ]
  },
  {
   "cell_type": "code",
   "execution_count": 12,
   "metadata": {
    "collapsed": false
   },
   "outputs": [
    {
     "name": "stderr",
     "output_type": "stream",
     "text": [
      "/Users/justinchien/anaconda3/lib/python3.5/site-packages/keras/models.py:136: UserWarning: No training configuration found in save file: the model was *not* compiled. Compile it manually.\n",
      "  warnings.warn('No training configuration found in save file: '\n"
     ]
    },
    {
     "name": "stdout",
     "output_type": "stream",
     "text": [
      "loaded convolutions\n",
      "loaded front or angle model\n",
      "loaded fronts model\n",
      "loaded angled model\n",
      "loaded bmw top model\n"
     ]
    }
   ],
   "source": [
    "convolutions = load_model('/Users/justinchien/ds/metis/Project_Kojak/app/models/convolutions.h5')\n",
    "print('loaded convolutions')\n",
    "\n",
    "front_or_angle_top = load_model('/Users/justinchien/ds/metis/Project_Kojak/app/models/front_or_angle_top.h5')\n",
    "print('loaded front or angle model')\n",
    "\n",
    "fronts = load_model('/Users/justinchien/ds/metis/Project_Kojak/app/models/fronts.h5')\n",
    "print('loaded fronts model')\n",
    "\n",
    "angled = load_model('/Users/justinchien/ds/metis/Project_Kojak/app/models/angled.h5')\n",
    "print('loaded angled model')\n",
    "\n",
    "bmw_top = load_model('/Users/justinchien/ds/metis/Project_Kojak/app/models/bmws_top.h5')\n",
    "print('loaded bmw top model')"
   ]
  },
  {
   "cell_type": "code",
   "execution_count": 5,
   "metadata": {
    "collapsed": true
   },
   "outputs": [],
   "source": [
    "from keras.models import load_model\n",
    "from keras.preprocessing import image\n",
    "import numpy as np\n",
    "import requests\n",
    "import wget\n",
    "import os"
   ]
  },
  {
   "cell_type": "code",
   "execution_count": 17,
   "metadata": {
    "collapsed": false
   },
   "outputs": [
    {
     "name": "stdout",
     "output_type": "stream",
     "text": [
      "front\n",
      "ferrari 99.9737024307\n",
      "bmw 0.0105421000626\n"
     ]
    }
   ],
   "source": [
    "def preprocess_input(x):\n",
    "    x /= 255.\n",
    "    x -= 0.5\n",
    "    x *= 2.\n",
    "    return x\n",
    "\n",
    "url = 'http://st.automobilemag.com/uploads/sites/11/2013/11/2014-Ferrari-458-Speciale-front.jpg'\n",
    "wget.download(url, out = 'test/car.jpg')\n",
    "\n",
    "img = image.load_img('test/car.jpg', target_size=(224, 224))\n",
    "x = image.img_to_array(img)\n",
    "x = np.expand_dims(x, axis=0)\n",
    "x = preprocess_input(x)\n",
    "\n",
    "convoluted = convolutions.predict(x)\n",
    "prediction = front_or_angle_top.predict(convoluted)\n",
    "\n",
    "predictions = []\n",
    "\n",
    "for i in range(len(prediction[0])):\n",
    "    predictions.append((i, prediction[0][i]))\n",
    "\n",
    "predictions.sort(key=lambda x: x[1], reverse = True)\n",
    "\n",
    "os.remove('test/car.jpg')\n",
    "\n",
    "#If angled view\n",
    "if predictions[0][1] > 0.5:\n",
    "    print ('angled')\n",
    "    #Send to Angled models for sangled\n",
    "    angled_prediction = angled.predict(convoluted)\n",
    "    angled_predictions = []\n",
    "    \n",
    "    for i in range(len(angled_prediction[0])):\n",
    "        angled_predictions.append((i, angled_prediction[0][i]))\n",
    "    \n",
    "    angled_predictions.sort(key=lambda x:x[1], reverse = True)\n",
    "    \n",
    "    car_dict = {\n",
    "        0:'aston',\n",
    "        1:'audi',\n",
    "        2:'bmw',\n",
    "        3:'bugatti',\n",
    "        4:'ferrari',\n",
    "        5:'lamborghini',\n",
    "        6:'mcLaren'\n",
    "    }\n",
    "    \n",
    "    #if BMW, go to model designation\n",
    "    if angled_predictions[0][0] == 2:\n",
    "        print('BMW!')\n",
    "        bmw_prediction = bmw_top.predict(convoluted)\n",
    "        bmw_predictions = []\n",
    "\n",
    "        for i in range(len(bmw_prediction[0])):\n",
    "            bmw_predictions.append((i, bmw_prediction[0][i]))\n",
    "\n",
    "        bmw_predictions.sort(key=lambda x: x[1], reverse = True)\n",
    "\n",
    "        bmw_dict = {\n",
    "            0:'2 Series',\n",
    "            1:'3 Series',\n",
    "            2:'4 Series',\n",
    "            3:'5 Series',\n",
    "            4:'6 Series',\n",
    "            5:'7 Series',\n",
    "            6:'i3',\n",
    "            7:'i8'\n",
    "        }\n",
    "\n",
    "        print(bmw_dict[bmw_predictions[0][0]], bmw_predictions[0][1]*100)\n",
    "        print(bmw_dict[bmw_predictions[1][0]], bmw_predictions[1][1]*100)\n",
    "    \n",
    "    #Print top two predictions for front if not BMW\n",
    "    else:\n",
    "        print(car_dict[angled_predictions[0][0]], angled_predictions[0][1]*100)\n",
    "        print(car_dict[angled_predictions[1][0]], angled_predictions[1][1]*100) \n",
    "    \n",
    "    \n",
    "#If front view\n",
    "else:\n",
    "    print ('front')\n",
    "    \n",
    "    #Send to top models for front\n",
    "    front_prediction = fronts.predict(convoluted)\n",
    "    front_predictions = []\n",
    "\n",
    "    for i in range(len(front_prediction[0])):\n",
    "        front_predictions.append((i, front_prediction[0][i]))\n",
    "\n",
    "    front_predictions.sort(key=lambda x: x[1], reverse = True)\n",
    "\n",
    "    car_dict = {\n",
    "        0:'aston',\n",
    "        1:'audi',\n",
    "        2:'bmw',\n",
    "        3:'bugatti',\n",
    "        4:'ferrari',\n",
    "        5:'lamborghini',\n",
    "        6:'mcLaren'\n",
    "    }\n",
    "\n",
    "    #Print top two predictions for front\n",
    "    print(car_dict[front_predictions[0][0]], front_predictions[0][1]*100)\n",
    "    print(car_dict[front_predictions[1][0]], front_predictions[1][1]*100)"
   ]
  },
  {
   "cell_type": "code",
   "execution_count": null,
   "metadata": {
    "collapsed": true
   },
   "outputs": [],
   "source": []
  }
 ],
 "metadata": {
  "anaconda-cloud": {},
  "kernelspec": {
   "display_name": "Python [Root]",
   "language": "python",
   "name": "Python [Root]"
  },
  "language_info": {
   "codemirror_mode": {
    "name": "ipython",
    "version": 3
   },
   "file_extension": ".py",
   "mimetype": "text/x-python",
   "name": "python",
   "nbconvert_exporter": "python",
   "pygments_lexer": "ipython3",
   "version": "3.5.2"
  }
 },
 "nbformat": 4,
 "nbformat_minor": 0
}
